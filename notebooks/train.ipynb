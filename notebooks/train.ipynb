{
 "cells": [
  {
   "cell_type": "code",
   "execution_count": 1,
   "metadata": {},
   "outputs": [],
   "source": [
    "## fix seeds \n",
    "SEED = 42\n",
    "\n",
    "import random as rn\n",
    "rn.seed(SEED)\n",
    "\n",
    "import numpy as np\n",
    "np.random.seed(SEED)\n",
    "\n",
    "import tensorflow as tf\n",
    "tf.random.set_seed(SEED)"
   ]
  },
  {
   "cell_type": "code",
   "execution_count": 2,
   "metadata": {},
   "outputs": [],
   "source": [
    "## Define BigEarthNet dataset object\n",
    "import sys\n",
    "sys.path.append(\"..\")\n",
    "\n",
    "from src.dataset.big_earth_dataset import BigEarthDataset\n",
    "big_earth = BigEarthDataset('/workspace/data/prepped/dev-train.tfrecord')\n",
    "train_dataset = big_earth.dataset\n",
    "val_dataset = BigEarthDataset('/workspace/data/prepped/dev-test.tfrecord', shuffle_buffer_size=0).dataset"
   ]
  },
  {
   "cell_type": "code",
   "execution_count": 3,
   "metadata": {},
   "outputs": [
    {
     "name": "stdout",
     "output_type": "stream",
     "text": [
      "[08/12/2020 21:32:56] [   DEBUG] [codecarbon.core.cpu] [is_powergadget_available():27] [PID:14 TID:139850564859712] CODECARBON : Exception occurred while instantiating IntelPowerGadget : CODECARBON : Platform not supported by Intel Power Gadget\n",
      "Traceback (most recent call last):\n",
      "  File \"/usr/local/lib/python3.6/dist-packages/codecarbon/core/cpu.py\", line 22, in is_powergadget_available\n",
      "    IntelPowerGadget()\n",
      "  File \"/usr/local/lib/python3.6/dist-packages/codecarbon/core/cpu.py\", line 61, in __init__\n",
      "    self._setup_cli()\n",
      "  File \"/usr/local/lib/python3.6/dist-packages/codecarbon/core/cpu.py\", line 89, in _setup_cli\n",
      "    \"CODECARBON : Platform not supported by Intel Power Gadget\"\n",
      "SystemError: CODECARBON : Platform not supported by Intel Power Gadget\n",
      "[08/12/2020 21:32:56] [   DEBUG] [codecarbon.core.cpu] [is_rapl_available():39] [PID:14 TID:139850564859712] CODECARBON : Exception occurred while instantiating RAPLInterface : CODECARBON : Intel RAPL files not found at /sys/class/powercap/intel-rapl on linux\n",
      "Traceback (most recent call last):\n",
      "  File \"/usr/local/lib/python3.6/dist-packages/codecarbon/core/cpu.py\", line 34, in is_rapl_available\n",
      "    IntelRAPL()\n",
      "  File \"/usr/local/lib/python3.6/dist-packages/codecarbon/core/cpu.py\", line 154, in __init__\n",
      "    self._setup_rapl()\n",
      "  File \"/usr/local/lib/python3.6/dist-packages/codecarbon/core/cpu.py\", line 165, in _setup_rapl\n",
      "    f\"CODECARBON : Intel RAPL files not found at {self._lin_rapl_dir} on {self._system}\"\n",
      "FileNotFoundError: CODECARBON : Intel RAPL files not found at /sys/class/powercap/intel-rapl on linux\n",
      "[08/12/2020 21:32:56] [    INFO] [apscheduler.scheduler] [add_job():440] [PID:14 TID:139850564859712] Adding job tentatively -- it will be properly scheduled when the scheduler starts\n"
     ]
    },
    {
     "name": "stderr",
     "output_type": "stream",
     "text": [
      "/usr/local/lib/python3.6/dist-packages/tzlocal/unix.py:158: UserWarning: Can not find any timezone configuration, defaulting to UTC.\n",
      "  warnings.warn('Can not find any timezone configuration, defaulting to UTC.')\n"
     ]
    },
    {
     "name": "stdout",
     "output_type": "stream",
     "text": [
      "[08/12/2020 21:32:59] [    INFO] [apscheduler.scheduler] [_real_add_job():881] [PID:14 TID:139850564859712] Added job \"BaseEmissionsTracker._measure_power\" to job store \"default\"\n",
      "[08/12/2020 21:32:59] [    INFO] [apscheduler.scheduler] [start():166] [PID:14 TID:139850564859712] Scheduler started\n",
      "[08/12/2020 21:32:59] [   DEBUG] [apscheduler.scheduler] [_process_jobs():940] [PID:14 TID:139847993898752] Looking for jobs to run\n",
      "[08/12/2020 21:32:59] [   DEBUG] [apscheduler.scheduler] [_process_jobs():1020] [PID:14 TID:139847993898752] Next wakeup is due at 2020-12-08 21:33:11.616239+00:00 (in 12.061524 seconds)\n",
      "Epoch 1/2\n",
      "[08/12/2020 21:33:11] [   DEBUG] [apscheduler.scheduler] [_process_jobs():940] [PID:14 TID:139847993898752] Looking for jobs to run\n",
      "[08/12/2020 21:33:11] [   DEBUG] [apscheduler.scheduler] [_process_jobs():1020] [PID:14 TID:139847993898752] Next wakeup is due at 2020-12-08 21:33:26.616239+00:00 (in 14.967282 seconds)\n",
      "[08/12/2020 21:33:11] [    INFO] [apscheduler.executors.default] [run_job():123] [PID:14 TID:139847772124928] Running job \"BaseEmissionsTracker._measure_power (trigger: interval[0:00:15], next run at: 2020-12-08 21:33:26 UTC)\" (scheduled at 2020-12-08 21:33:11.616239+00:00)\n",
      "[08/12/2020 21:33:11] [    INFO] [apscheduler.executors.default] [run_job():144] [PID:14 TID:139847772124928] Job \"BaseEmissionsTracker._measure_power (trigger: interval[0:00:15], next run at: 2020-12-08 21:33:26 UTC)\" executed successfully\n",
      "1/1 [==============================] - 2s 2s/step - loss: 0.0548 - accuracy: 0.1800 - auc: 0.6196 - precision: 0.4574 - recall: 0.8776 - val_loss: 17761.8691 - val_accuracy: 0.0526 - val_auc: 0.5944 - val_precision: 0.5088 - val_recall: 0.7073 - lr: 0.0010\n",
      "Epoch 2/2\n",
      "1/1 [==============================] - 1s 631ms/step - loss: 0.0556 - accuracy: 0.3400 - auc: 0.6723 - precision: 0.4815 - recall: 0.7959 - val_loss: 23889.8379 - val_accuracy: 0.0526 - val_auc: 0.5729 - val_precision: 0.4912 - val_recall: 0.6829 - lr: 0.0010\n",
      "[08/12/2020 21:33:24] [    INFO] [apscheduler.scheduler] [shutdown():198] [PID:14 TID:139850564859712] Scheduler has been shut down\n",
      "[08/12/2020 21:33:24] [   DEBUG] [apscheduler.scheduler] [_process_jobs():940] [PID:14 TID:139847993898752] Looking for jobs to run\n",
      "[08/12/2020 21:33:24] [   DEBUG] [apscheduler.scheduler] [_process_jobs():1016] [PID:14 TID:139847993898752] No jobs; waiting until a job is added\n",
      "[08/12/2020 21:33:24] [   DEBUG] [urllib3.connectionpool] [_new_conn():230] [PID:14 TID:139850564859712] Starting new HTTP connection (1): 169.254.169.254:80\n",
      "[08/12/2020 21:33:25] [   DEBUG] [codecarbon.core.cloud] [get_env_cloud_details():95] [PID:14 TID:139850564859712] Not running on AWS, couldn't retrieving metadata: ConnectTimeout(MaxRetryError(\"HTTPConnectionPool(host='169.254.169.254', port=80): Max retries exceeded with url: /latest/dynamic/instance-identity/document (Caused by ConnectTimeoutError(<urllib3.connection.HTTPConnection object at 0x7f30d3ec3a58>, 'Connection to 169.254.169.254 timed out. (connect timeout=1)'))\",),)\n",
      "[08/12/2020 21:33:25] [   DEBUG] [urllib3.connectionpool] [_new_conn():230] [PID:14 TID:139850564859712] Starting new HTTP connection (1): 169.254.169.254:80\n",
      "[08/12/2020 21:33:26] [   DEBUG] [codecarbon.core.cloud] [get_env_cloud_details():95] [PID:14 TID:139850564859712] Not running on Azure, couldn't retrieving metadata: ConnectTimeout(MaxRetryError(\"HTTPConnectionPool(host='169.254.169.254', port=80): Max retries exceeded with url: /metadata/instance?api-version=2019-08-15 (Caused by ConnectTimeoutError(<urllib3.connection.HTTPConnection object at 0x7f30d3ed9240>, 'Connection to 169.254.169.254 timed out. (connect timeout=1)'))\",),)\n",
      "[08/12/2020 21:33:26] [   DEBUG] [urllib3.connectionpool] [_new_conn():230] [PID:14 TID:139850564859712] Starting new HTTP connection (1): 169.254.169.254:80\n",
      "[08/12/2020 21:33:27] [   DEBUG] [codecarbon.core.cloud] [get_env_cloud_details():95] [PID:14 TID:139850564859712] Not running on GCP, couldn't retrieving metadata: ConnectTimeout(MaxRetryError(\"HTTPConnectionPool(host='169.254.169.254', port=80): Max retries exceeded with url: /computeMetadata/v1/instance/?recursive=true&alt=json (Caused by ConnectTimeoutError(<urllib3.connection.HTTPConnection object at 0x7f30d81c1a90>, 'Connection to 169.254.169.254 timed out. (connect timeout=1)'))\",),)\n",
      "[08/12/2020 21:33:27] [   DEBUG] [urllib3.connectionpool] [_new_conn():941] [PID:14 TID:139850564859712] Starting new HTTPS connection (1): get.geojs.io:443\n",
      "[08/12/2020 21:33:27] [   DEBUG] [urllib3.connectionpool] [_make_request():442] [PID:14 TID:139850564859712] https://get.geojs.io:443 \"GET /v1/ip/geo.json HTTP/1.1\" 200 None\n",
      "0.0\n"
     ]
    }
   ],
   "source": [
    "from src.model.resnet50 import ResNet50\n",
    "from codecarbon import EmissionsTracker\n",
    "\n",
    "tracker = EmissionsTracker()\n",
    "\n",
    "classifier = ResNet50(input_shape = (120, 120, 10), classes = 5)\n",
    "classifier.compile(\n",
    "    optimizer='adam',\n",
    "    loss=tf.keras.losses.BinaryCrossentropy(),\n",
    "    metrics=[\n",
    "        'accuracy', \n",
    "        tf.keras.metrics.AUC(),\n",
    "        tf.keras.metrics.Precision(),\n",
    "        tf.keras.metrics.Recall()\n",
    "    ],\n",
    "    \n",
    ")\n",
    "\n",
    "tracker.start()\n",
    "classifier.fit(\n",
    "    train_dataset, \n",
    "    class_weight=big_earth.class_weights,\n",
    "    epochs=2,\n",
    "    validation_data=val_dataset,\n",
    "    callbacks=[\n",
    "        tf.keras.callbacks.CSVLogger('logs/metrics.csv'), \n",
    "        tf.keras.callbacks.EarlyStopping(monitor='val_accuracy', patience=5), \n",
    "        tf.keras.callbacks.ReduceLROnPlateau(), \n",
    "        tf.keras.callbacks.TensorBoard('logs/test', profile_batch=0)  \n",
    "    ],\n",
    "    workers=4,\n",
    "    use_multiprocessing=True\n",
    ")\n",
    "emissions = tracker.stop()\n",
    "print(emissions)"
   ]
  },
  {
   "cell_type": "code",
   "execution_count": 4,
   "metadata": {},
   "outputs": [
    {
     "name": "stdout",
     "output_type": "stream",
     "text": [
      "1/1 [==============================] - 0s 10ms/step - loss: 23889.8379 - accuracy: 0.0526 - auc: 0.5729 - precision: 0.4912 - recall: 0.6829\n",
      "Loss : 23889.837890625\n",
      "Accuracy : 0.05263157933950424\n"
     ]
    }
   ],
   "source": [
    "results = classifier.evaluate(val_dataset)\n",
    "print(\"Loss :\", results[0])\n",
    "print(\"Accuracy :\", results[1])\n",
    "classifier.predict(val_dataset)"
   ]
  },
  {
   "cell_type": "code",
   "execution_count": 15,
   "metadata": {},
   "outputs": [
    {
     "ename": "ModuleNotFoundError",
     "evalue": "No module named 'codecarbon'",
     "output_type": "error",
     "traceback": [
      "\u001b[0;31m---------------------------------------------------------------------------\u001b[0m",
      "\u001b[0;31mModuleNotFoundError\u001b[0m                       Traceback (most recent call last)",
      "\u001b[0;32m<ipython-input-15-4638e0d5991a>\u001b[0m in \u001b[0;36m<module>\u001b[0;34m\u001b[0m\n\u001b[0;32m----> 1\u001b[0;31m \u001b[0;32mfrom\u001b[0m \u001b[0mcodecarbon\u001b[0m \u001b[0;32mimport\u001b[0m \u001b[0mEmissionsTracker\u001b[0m\u001b[0;34m\u001b[0m\u001b[0;34m\u001b[0m\u001b[0m\n\u001b[0m",
      "\u001b[0;31mModuleNotFoundError\u001b[0m: No module named 'codecarbon'"
     ]
    }
   ],
   "source": []
  },
  {
   "cell_type": "code",
   "execution_count": null,
   "metadata": {},
   "outputs": [],
   "source": []
  }
 ],
 "metadata": {
  "kernelspec": {
   "display_name": "Python 3",
   "language": "python",
   "name": "python3"
  },
  "language_info": {
   "codemirror_mode": {
    "name": "ipython",
    "version": 3
   },
   "file_extension": ".py",
   "mimetype": "text/x-python",
   "name": "python",
   "nbconvert_exporter": "python",
   "pygments_lexer": "ipython3",
   "version": "3.6.9"
  }
 },
 "nbformat": 4,
 "nbformat_minor": 4
}
