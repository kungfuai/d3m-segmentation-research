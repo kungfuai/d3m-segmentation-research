{
 "cells": [
  {
   "cell_type": "code",
   "execution_count": null,
   "metadata": {},
   "outputs": [],
   "source": [
    "# fix seeds \n",
    "SEED = 42\n",
    "\n",
    "import random as rn\n",
    "rn.seed(SEED)\n",
    "\n",
    "import numpy as np\n",
    "np.random.seed(SEED)\n",
    "\n",
    "import tensorflow as tf\n",
    "tf.random.set_seed(SEED)\n",
    "\n",
    "import sys\n",
    "sys.path.append(\"..\")"
   ]
  },
  {
   "cell_type": "code",
   "execution_count": null,
   "metadata": {
    "scrolled": true
   },
   "outputs": [],
   "source": [
    "from src.dataset.segmentation_dataset import SegmentationDataset\n",
    "\n",
    "s = SegmentationDataset(\n",
    "    '/workspace/data/prepped/segmentation-train-10.tfrecord',\n",
    "    one_image_label=True,\n",
    "    #loss_function='xent',\n",
    "    nb_class=5,\n",
    "    batch_size=128,\n",
    "    shuffle_buffer_size=0\n",
    ")\n",
    "dataset = s.dataset\n",
    "w = s.class_weights\n",
    "\n",
    "for b in dataset:\n",
    "    for p in b:\n",
    "        print(p.shape)\n"
   ]
  },
  {
   "cell_type": "code",
   "execution_count": null,
   "metadata": {},
   "outputs": [],
   "source": [
    "from src.model.unet import Unet\n",
    "import segmentation_models as sm\n",
    "import tensorflow as tf\n",
    "\n",
    "model = Unet(\n",
    "    input_shape=(128, 128, 10),\n",
    "    classes=5,  \n",
    "    encoder_weights='test-weights.h5',\n",
    "    encoder_freeze=True,\n",
    "    one_image_label=True\n",
    ")\n",
    "model.compile(\n",
    "    optimizer='adam',\n",
    "    loss=sm.losses.categorical_focal_loss,\n",
    "    #loss=sm.losses.CategoricalCELoss(class_weights=w), \n",
    "    #loss=tf.keras.losses.SparseCategoricalCrossentropy(from_logits=True), # only for one image label\n",
    "    metrics=[\n",
    "        'categorical_accuracy', \n",
    "        #sm.metrics.iou_score,\n",
    "    ], \n",
    ")\n",
    "model.fit(\n",
    "    dataset, \n",
    "    epochs=1,\n",
    "    #class_weight=w, ## only for one_image_label\n",
    "#     validation_data=val_dataset,\n",
    "#     validation_steps=2,\n",
    "#     callbacks=[\n",
    "#         tf.keras.callbacks.CSVLogger('logs/metrics.csv'), \n",
    "#         tf.keras.callbacks.EarlyStopping(monitor='val_accuracy', patience=5), \n",
    "#         tf.keras.callbacks.ReduceLROnPlateau(), \n",
    "#         tf.keras.callbacks.TensorBoard('logs/test', profile_batch=0)  \n",
    "#     ],\n",
    "    workers=4,\n",
    "    use_multiprocessing=True\n",
    ")"
   ]
  },
  {
   "cell_type": "code",
   "execution_count": null,
   "metadata": {},
   "outputs": [],
   "source": [
    "# results = model.evaluate(train_dataset)\n",
    "# print(\"Loss :\", results[0])\n",
    "# print(\"Accuracy :\", results[1])\n",
    "preds = model.predict(dataset)\n",
    "print(preds.shape)\n",
    "\n"
   ]
  },
  {
   "cell_type": "code",
   "execution_count": null,
   "metadata": {},
   "outputs": [],
   "source": []
  }
 ],
 "metadata": {
  "kernelspec": {
   "display_name": "Python 3",
   "language": "python",
   "name": "python3"
  },
  "language_info": {
   "codemirror_mode": {
    "name": "ipython",
    "version": 3
   },
   "file_extension": ".py",
   "mimetype": "text/x-python",
   "name": "python",
   "nbconvert_exporter": "python",
   "pygments_lexer": "ipython3",
   "version": "3.6.9"
  }
 },
 "nbformat": 4,
 "nbformat_minor": 4
}
